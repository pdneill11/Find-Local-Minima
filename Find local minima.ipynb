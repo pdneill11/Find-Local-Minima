{
 "cells": [
  {
   "cell_type": "code",
   "execution_count": 1,
   "id": "28868e74",
   "metadata": {},
   "outputs": [],
   "source": [
    "import numpy as np\n",
    "import pandas as pd\n",
    "import csv\n",
    "import openpyxl\n",
    "import re\n",
    "import glob\n",
    "import os\n",
    "from os.path import exists as file_exists\n",
    "import matplotlib.pyplot as plt\n",
    "import scipy\n",
    "from scipy.signal import argrelextrema"
   ]
  },
  {
   "cell_type": "code",
   "execution_count": 2,
   "id": "59a743fb",
   "metadata": {
    "scrolled": false
   },
   "outputs": [
    {
     "name": "stdout",
     "output_type": "stream",
     "text": [
      "Empty DataFrame\n",
      "Columns: []\n",
      "Index: [0, 1, 2, 3, 4, 5, 6, 7, 8, 9, 10, 11, 12, 13, 14, 15, 16, 17, 18, 19, 20, 21, 22, 23]\n"
     ]
    }
   ],
   "source": [
    "#Find the local minima in the loss tangent. Organize data in separate columns with desired frequency range in column A.\n",
    "\n",
    "file_name = 'X:\\\\Philip\\\\OT code Python\\\\Book1.xlsx'\n",
    "\n",
    "contents = pd.read_excel(file_name, sheet_name='control')\n",
    "array = np.array(contents)\n",
    "\n",
    "xvals = array[:,0]\n",
    "index_list = []\n",
    "xlist = []\n",
    "ylist = []\n",
    "\n",
    "\n",
    "for i in range(1,25):\n",
    "    yvals = array[:,i]\n",
    "    minimum_ind = argrelextrema(yvals, np.less)\n",
    "    index = list(minimum_ind[0])\n",
    "    x_min = list(xvals[index])\n",
    "    y_min = list(yvals[index])\n",
    "    index_list.append(index)\n",
    "    xlist.append(x_min)\n",
    "    ylist.append(y_min)\n",
    "    \n",
    "df = pd.DataFrame(ylist)\n",
    "print(df.to_string(index=False))"
   ]
  },
  {
   "cell_type": "code",
   "execution_count": 4,
   "id": "dca1f787",
   "metadata": {},
   "outputs": [
    {
     "name": "stdout",
     "output_type": "stream",
     "text": [
      "Empty DataFrame\n",
      "Columns: []\n",
      "Index: [0, 1, 2, 3, 4, 5, 6, 7, 8, 9, 10, 11, 12]\n"
     ]
    }
   ],
   "source": [
    "#Find the G' values at frequencies of local minima in loss tangent. Organize data in separate columns with desired frequency range in column A.\n",
    "\n",
    "file_name = 'X:\\\\Philip\\\\OT code Python\\\\Book1.xlsx'\n",
    "\n",
    "contents = pd.read_excel(file_name, sheet_name='control')\n",
    "array2 = np.array(contents)\n",
    "\n",
    "gp_min_list = []\n",
    "\n",
    "for i in range(1,len(array2.transpose()),4):\n",
    "    cursor = int((i-1)/4)\n",
    "    gprime = array2[:,i]\n",
    "    gp_min = list(gprime[index_list[cursor]])\n",
    "    gp_min_list.append(gp_min)\n",
    "\n",
    "df2 = pd.DataFrame(gp_min_list)\n",
    "print(df2.to_string(index=False))"
   ]
  },
  {
   "cell_type": "code",
   "execution_count": null,
   "id": "22ecfaed",
   "metadata": {},
   "outputs": [],
   "source": []
  },
  {
   "cell_type": "code",
   "execution_count": null,
   "id": "20e7de8b",
   "metadata": {},
   "outputs": [],
   "source": []
  }
 ],
 "metadata": {
  "kernelspec": {
   "display_name": "Python 3 (ipykernel)",
   "language": "python",
   "name": "python3"
  },
  "language_info": {
   "codemirror_mode": {
    "name": "ipython",
    "version": 3
   },
   "file_extension": ".py",
   "mimetype": "text/x-python",
   "name": "python",
   "nbconvert_exporter": "python",
   "pygments_lexer": "ipython3",
   "version": "3.9.13"
  }
 },
 "nbformat": 4,
 "nbformat_minor": 5
}
